{
 "cells": [
  {
   "cell_type": "code",
   "execution_count": null,
   "id": "c64453d1",
   "metadata": {},
   "outputs": [
    {
     "name": "stdout",
     "output_type": "stream",
     "text": [
      "dessa vez foi\n"
     ]
    }
   ],
   "source": [
    "print(\"dessa vez foi\")"
   ]
  }
 ],
 "metadata": {
  "language_info": {
   "name": "python"
  }
 },
 "nbformat": 4,
 "nbformat_minor": 5
}
